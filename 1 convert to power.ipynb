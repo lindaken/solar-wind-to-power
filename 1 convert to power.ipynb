{
 "cells": [
  {
   "cell_type": "markdown",
   "id": "984b29aa",
   "metadata": {},
   "source": [
    "### 时长"
   ]
  },
  {
   "cell_type": "code",
   "execution_count": 2,
   "id": "af32dfd7",
   "metadata": {},
   "outputs": [],
   "source": [
    "start_date, end_date = '2020-01-01', '2020-12-31'"
   ]
  },
  {
   "cell_type": "markdown",
   "id": "24985ec2",
   "metadata": {},
   "source": [
    "### 区域经纬度\n"
   ]
  },
  {
   "cell_type": "code",
   "execution_count": 3,
   "id": "4274258b",
   "metadata": {},
   "outputs": [],
   "source": [
    "latitude = [25, 25.5]  # [latitude south, latitude north]\n",
    "longitude = [68, 68.5]  # [longitude west, longitude east]\n",
    "single_location = [68, 25] #经纬度\n",
    "location1 = (25, 68)"
   ]
  },
  {
   "cell_type": "markdown",
   "id": "676edea1",
   "metadata": {},
   "source": [
    "### 目标文件名称2"
   ]
  },
  {
   "cell_type": "code",
   "execution_count": 4,
   "id": "ebcb7a93",
   "metadata": {},
   "outputs": [],
   "source": [
    "target_file = 'Pakistan.nc'\n",
    "solar1 = \"Solar_Pakistan.xlsx\"\n",
    "wind1 = \"Wind_Pakistan.xlsx\""
   ]
  },
  {
   "cell_type": "code",
   "execution_count": 5,
   "id": "389f0179-acbd-4d16-b6f5-62cad09b9582",
   "metadata": {},
   "outputs": [
    {
     "name": "stderr",
     "output_type": "stream",
     "text": [
      "c:\\Users\\LINK4\\Anaconda3\\envs\\CDS\\lib\\site-packages\\xarray\\backends\\cfgrib_.py:27: UserWarning: Failed to load cfgrib - most likely there is a problem accessing the ecCodes library. Try `import cfgrib` to get the full error message\n",
      "  warnings.warn(\n"
     ]
    }
   ],
   "source": [
    "from feedinlib import era5\n",
    "import pandas as pd"
   ]
  },
  {
   "cell_type": "markdown",
   "id": "7c410274-b95b-4d68-bd4a-6dfb12a06540",
   "metadata": {},
   "source": [
    "#### 计算"
   ]
  },
  {
   "cell_type": "code",
   "execution_count": 6,
   "id": "da9a2763",
   "metadata": {},
   "outputs": [
    {
     "name": "stderr",
     "output_type": "stream",
     "text": [
      "2022-06-17 17:25:06,878 INFO Welcome to the CDS\n",
      "2022-06-17 17:25:06,879 INFO Sending request to https://cds.climate.copernicus.eu/api/v2/resources/reanalysis-era5-single-levels\n",
      "2022-06-17 17:25:07,636 INFO Request is completed\n",
      "2022-06-17 17:25:07,638 INFO Downloading request for 9 variables to Pakistan.nc\n",
      "2022-06-17 17:25:07,640 INFO Downloading https://download-0004-clone.copernicus-climate.eu/cache-compute-0004/cache/data7/adaptor.mars.internal-1655435151.3595617-16606-1-f4f7878c-cd2e-429b-800a-3ad394c843a6.nc to Pakistan.nc (1.4M)\n",
      "2022-06-17 17:25:13,758 INFO Download rate 233.3K/s \n",
      "c:\\Users\\LINK4\\Anaconda3\\envs\\CDS\\lib\\site-packages\\xarray\\backends\\plugins.py:61: RuntimeWarning: Engine 'cfgrib' loading failed:\n",
      "Could not load the ecCodes library!\n",
      "  warnings.warn(f\"Engine {name!r} loading failed:\\n{ex}\", RuntimeWarning)\n"
     ]
    }
   ],
   "source": [
    "variable = \"feedinlib\"# get pvlib data for specified area\n",
    "ds_berlin = era5.get_era5_data_from_datespan_and_position(\n",
    "    variable=variable,\n",
    "    start_date=start_date, end_date=end_date, \n",
    "    latitude=latitude, longitude=longitude,\n",
    "    target_file=target_file)\n",
    "# 这里可能要排队很久There may be a long queue here"
   ]
  },
  {
   "cell_type": "markdown",
   "id": "29afe1c0-65ac-42ba-83c9-6416a0ff3604",
   "metadata": {},
   "source": [
    "### 目标文件名称2"
   ]
  },
  {
   "cell_type": "code",
   "execution_count": 7,
   "id": "d2ffb415",
   "metadata": {},
   "outputs": [],
   "source": [
    "era5_netcdf_filename = target_file"
   ]
  },
  {
   "cell_type": "markdown",
   "id": "06d9bd25-c2de-48d0-b57b-fe3b32c925ef",
   "metadata": {},
   "source": [
    "### 单个区域的坐标"
   ]
  },
  {
   "cell_type": "code",
   "execution_count": 8,
   "id": "a1a77a3a",
   "metadata": {},
   "outputs": [
    {
     "data": {
      "text/html": [
       "<div>\n",
       "<style scoped>\n",
       "    .dataframe tbody tr th:only-of-type {\n",
       "        vertical-align: middle;\n",
       "    }\n",
       "\n",
       "    .dataframe tbody tr th {\n",
       "        vertical-align: top;\n",
       "    }\n",
       "\n",
       "    .dataframe thead th {\n",
       "        text-align: right;\n",
       "    }\n",
       "</style>\n",
       "<table border=\"1\" class=\"dataframe\">\n",
       "  <thead>\n",
       "    <tr style=\"text-align: right;\">\n",
       "      <th></th>\n",
       "      <th>wind_speed</th>\n",
       "      <th>temp_air</th>\n",
       "      <th>ghi</th>\n",
       "      <th>dhi</th>\n",
       "    </tr>\n",
       "    <tr>\n",
       "      <th>time</th>\n",
       "      <th></th>\n",
       "      <th></th>\n",
       "      <th></th>\n",
       "      <th></th>\n",
       "    </tr>\n",
       "  </thead>\n",
       "  <tbody>\n",
       "    <tr>\n",
       "      <th>2019-12-31 23:30:00+00:00</th>\n",
       "      <td>6.597351</td>\n",
       "      <td>7.339355</td>\n",
       "      <td>0.000035</td>\n",
       "      <td>0.000035</td>\n",
       "    </tr>\n",
       "    <tr>\n",
       "      <th>2020-01-01 00:30:00+00:00</th>\n",
       "      <td>6.745894</td>\n",
       "      <td>7.111633</td>\n",
       "      <td>0.000035</td>\n",
       "      <td>0.000035</td>\n",
       "    </tr>\n",
       "    <tr>\n",
       "      <th>2020-01-01 01:30:00+00:00</th>\n",
       "      <td>6.802092</td>\n",
       "      <td>7.081573</td>\n",
       "      <td>0.000035</td>\n",
       "      <td>0.000035</td>\n",
       "    </tr>\n",
       "    <tr>\n",
       "      <th>2020-01-01 02:30:00+00:00</th>\n",
       "      <td>6.865180</td>\n",
       "      <td>7.238403</td>\n",
       "      <td>30.934618</td>\n",
       "      <td>22.096180</td>\n",
       "    </tr>\n",
       "    <tr>\n",
       "      <th>2020-01-01 03:30:00+00:00</th>\n",
       "      <td>7.933881</td>\n",
       "      <td>7.315918</td>\n",
       "      <td>189.161148</td>\n",
       "      <td>92.964935</td>\n",
       "    </tr>\n",
       "  </tbody>\n",
       "</table>\n",
       "</div>"
      ],
      "text/plain": [
       "                           wind_speed  temp_air         ghi        dhi\n",
       "time                                                                  \n",
       "2019-12-31 23:30:00+00:00    6.597351  7.339355    0.000035   0.000035\n",
       "2020-01-01 00:30:00+00:00    6.745894  7.111633    0.000035   0.000035\n",
       "2020-01-01 01:30:00+00:00    6.802092  7.081573    0.000035   0.000035\n",
       "2020-01-01 02:30:00+00:00    6.865180  7.238403   30.934618  22.096180\n",
       "2020-01-01 03:30:00+00:00    7.933881  7.315918  189.161148  92.964935"
      ]
     },
     "execution_count": 8,
     "metadata": {},
     "output_type": "execute_result"
    }
   ],
   "source": [
    "# for single location (as list of longitude and latitude)\n",
    "\n",
    "pvlib_df = era5.weather_df_from_era5(\n",
    "    era5_netcdf_filename=era5_netcdf_filename,\n",
    "    lib='pvlib',\n",
    "    area=single_location) # single_location = [68, 25] #经纬度\n",
    "pvlib_df.head()"
   ]
  },
  {
   "cell_type": "code",
   "execution_count": 9,
   "id": "6cb8fac8-1828-45c8-ad78-9e93d48617b5",
   "metadata": {},
   "outputs": [
    {
     "data": {
      "text/html": [
       "<div>\n",
       "<style scoped>\n",
       "    .dataframe tbody tr th:only-of-type {\n",
       "        vertical-align: middle;\n",
       "    }\n",
       "\n",
       "    .dataframe tbody tr th {\n",
       "        vertical-align: top;\n",
       "    }\n",
       "\n",
       "    .dataframe thead tr th {\n",
       "        text-align: left;\n",
       "    }\n",
       "\n",
       "    .dataframe thead tr:last-of-type th {\n",
       "        text-align: right;\n",
       "    }\n",
       "</style>\n",
       "<table border=\"1\" class=\"dataframe\">\n",
       "  <thead>\n",
       "    <tr>\n",
       "      <th>variable</th>\n",
       "      <th colspan=\"2\" halign=\"left\">wind_speed</th>\n",
       "      <th>pressure</th>\n",
       "      <th>temperature</th>\n",
       "      <th>roughness_length</th>\n",
       "    </tr>\n",
       "    <tr>\n",
       "      <th>height</th>\n",
       "      <th>10</th>\n",
       "      <th>100</th>\n",
       "      <th>0</th>\n",
       "      <th>2</th>\n",
       "      <th>0</th>\n",
       "    </tr>\n",
       "    <tr>\n",
       "      <th>time</th>\n",
       "      <th></th>\n",
       "      <th></th>\n",
       "      <th></th>\n",
       "      <th></th>\n",
       "      <th></th>\n",
       "    </tr>\n",
       "  </thead>\n",
       "  <tbody>\n",
       "    <tr>\n",
       "      <th>2019-12-31 23:00:00+00:00</th>\n",
       "      <td>6.597351</td>\n",
       "      <td>10.915031</td>\n",
       "      <td>101348.429688</td>\n",
       "      <td>280.489349</td>\n",
       "      <td>0.043687</td>\n",
       "    </tr>\n",
       "    <tr>\n",
       "      <th>2020-01-01 00:00:00+00:00</th>\n",
       "      <td>6.745894</td>\n",
       "      <td>11.058444</td>\n",
       "      <td>101410.554688</td>\n",
       "      <td>280.261627</td>\n",
       "      <td>0.043697</td>\n",
       "    </tr>\n",
       "    <tr>\n",
       "      <th>2020-01-01 01:00:00+00:00</th>\n",
       "      <td>6.802092</td>\n",
       "      <td>11.085985</td>\n",
       "      <td>101483.031250</td>\n",
       "      <td>280.231567</td>\n",
       "      <td>0.043702</td>\n",
       "    </tr>\n",
       "    <tr>\n",
       "      <th>2020-01-01 02:00:00+00:00</th>\n",
       "      <td>6.865180</td>\n",
       "      <td>11.333065</td>\n",
       "      <td>101552.609375</td>\n",
       "      <td>280.388397</td>\n",
       "      <td>0.043702</td>\n",
       "    </tr>\n",
       "    <tr>\n",
       "      <th>2020-01-01 03:00:00+00:00</th>\n",
       "      <td>7.933881</td>\n",
       "      <td>10.890983</td>\n",
       "      <td>101622.617188</td>\n",
       "      <td>280.465912</td>\n",
       "      <td>0.043782</td>\n",
       "    </tr>\n",
       "  </tbody>\n",
       "</table>\n",
       "</div>"
      ],
      "text/plain": [
       "variable                  wind_speed                  pressure temperature  \\\n",
       "height                           10         100            0           2     \n",
       "time                                                                         \n",
       "2019-12-31 23:00:00+00:00   6.597351  10.915031  101348.429688  280.489349   \n",
       "2020-01-01 00:00:00+00:00   6.745894  11.058444  101410.554688  280.261627   \n",
       "2020-01-01 01:00:00+00:00   6.802092  11.085985  101483.031250  280.231567   \n",
       "2020-01-01 02:00:00+00:00   6.865180  11.333065  101552.609375  280.388397   \n",
       "2020-01-01 03:00:00+00:00   7.933881  10.890983  101622.617188  280.465912   \n",
       "\n",
       "variable                  roughness_length  \n",
       "height                                 0    \n",
       "time                                        \n",
       "2019-12-31 23:00:00+00:00         0.043687  \n",
       "2020-01-01 00:00:00+00:00         0.043697  \n",
       "2020-01-01 01:00:00+00:00         0.043702  \n",
       "2020-01-01 02:00:00+00:00         0.043702  \n",
       "2020-01-01 03:00:00+00:00         0.043782  "
      ]
     },
     "execution_count": 9,
     "metadata": {},
     "output_type": "execute_result"
    }
   ],
   "source": [
    "# for whole region\n",
    "\n",
    "windpowerlib_df = era5.weather_df_from_era5(\n",
    "    era5_netcdf_filename=era5_netcdf_filename,\n",
    "    lib='windpowerlib',\n",
    "    area=single_location) # single_location = [68, 25] #经纬度\n",
    "windpowerlib_df.head()"
   ]
  },
  {
   "cell_type": "markdown",
   "id": "b5210908-5384-4206-9966-89a1f51f5711",
   "metadata": {},
   "source": [
    "### 光电模型参数"
   ]
  },
  {
   "cell_type": "code",
   "execution_count": 10,
   "id": "74daf781",
   "metadata": {},
   "outputs": [
    {
     "data": {
      "text/plain": [
       "'0.8.0'"
      ]
     },
     "execution_count": 10,
     "metadata": {},
     "output_type": "execute_result"
    }
   ],
   "source": [
    "import pvlib\n",
    "pvlib.__version__\n",
    "# pvlib's version is 0.8.0 "
   ]
  },
  {
   "cell_type": "code",
   "execution_count": 11,
   "id": "cfe92c61-b1e8-4d71-9905-551ae01254fc",
   "metadata": {},
   "outputs": [],
   "source": [
    "from feedinlib import Photovoltaic"
   ]
  },
  {
   "cell_type": "code",
   "execution_count": 12,
   "id": "02b67d07",
   "metadata": {},
   "outputs": [
    {
     "name": "stderr",
     "output_type": "stream",
     "text": [
      "c:\\Users\\LINK4\\Anaconda3\\envs\\CDS\\lib\\site-packages\\pvlib\\pvsystem.py:478: pvlibDeprecationWarning: temperature_model_parameters, racking_model, and module_type are not specified. Reverting to deprecated default: SAPM cell temperature model parameters for a glass/glass module in open racking. In v0.9, temperature_model_parameters or a valid combination of racking_model and module_type will be required.\n",
      "  warnings.warn(\n"
     ]
    },
    {
     "data": {
      "text/plain": [
       "<AxesSubplot:xlabel='time'>"
      ]
     },
     "execution_count": 12,
     "metadata": {},
     "output_type": "execute_result"
    },
    {
     "data": {
      "image/png": "[encoded data removed]",
      "text/plain": [
       "<Figure size 432x288 with 1 Axes>"
      ]
     },
     "metadata": {
      "needs_background": "light"
     },
     "output_type": "display_data"
    }
   ],
   "source": [
    "system_data = {\n",
    "    'module_name': 'Advent_Solar_Ventura_210___2008_', \n",
    "    'inverter_name': 'ABB__MICRO_0_25_I_OUTD_US_208__208V_',\n",
    "    'azimuth': 180,\n",
    "    'tilt': 30,\n",
    "    'albedo': 0.2}\n",
    "pv_system = Photovoltaic(**system_data)\n",
    "feedin = pv_system.feedin(weather=pvlib_df,location=location1)\n",
    "feedin.plot()"
   ]
  },
  {
   "cell_type": "markdown",
   "id": "b0eb7494-1dc6-4edf-9d6d-1e29050045fd",
   "metadata": {},
   "source": [
    "# 将光电数据保存为excel"
   ]
  },
  {
   "cell_type": "code",
   "execution_count": 14,
   "id": "e0517610",
   "metadata": {},
   "outputs": [],
   "source": [
    "\n",
    "df= pd.DataFrame(feedin)\n",
    "list1= []\n",
    "for i in df[0]:\n",
    "    list1.append(i)\n",
    "df2 = pd.DataFrame(list1)\n",
    "df2 = df2.fillna(0)\n",
    "df2.to_excel(solar1)"
   ]
  },
  {
   "cell_type": "markdown",
   "id": "ecfc5d59-0e73-499e-9dc0-e236f51513ac",
   "metadata": {},
   "source": [
    "# 风电模型参数"
   ]
  },
  {
   "cell_type": "code",
   "execution_count": 15,
   "id": "1112b9a5",
   "metadata": {},
   "outputs": [
    {
     "data": {
      "text/plain": [
       "<AxesSubplot:xlabel='time'>"
      ]
     },
     "execution_count": 15,
     "metadata": {},
     "output_type": "execute_result"
    },
    {
     "data": {
      "image/png": "[encoded data removed]",
      "text/plain": [
       "<Figure size 432x288 with 1 Axes>"
      ]
     },
     "metadata": {
      "needs_background": "light"
     },
     "output_type": "display_data"
    }
   ],
   "source": [
    "from feedinlib import WindPowerPlant\n",
    "turbine_data = {\n",
    "    'turbine_type': 'E-101/3050',\n",
    "    'hub_height': 135\n",
    "    }\n",
    "wind_turbine = WindPowerPlant(**turbine_data)\n",
    "feedin = wind_turbine.feedin(\n",
    "    weather=windpowerlib_df)\n",
    "feedin.plot()"
   ]
  },
  {
   "cell_type": "code",
   "execution_count": 16,
   "id": "a7ab439d-75dd-4421-8131-a318ff93ec9c",
   "metadata": {},
   "outputs": [],
   "source": [
    "df= pd.DataFrame(feedin)\n",
    "list1= []\n",
    "for i in df[\"feedin_power_plant\"]:\n",
    "    list1.append(i)\n",
    "df2 = pd.DataFrame(list1)\n",
    "df2.to_excel(wind1)"
   ]
  },
  {
   "cell_type": "code",
   "execution_count": null,
   "id": "7783bd47-86c5-4aa1-848d-366d9b1a4980",
   "metadata": {},
   "outputs": [],
   "source": []
  }
 ],
 "metadata": {
  "interpreter": {
   "hash": "e31de8f5ac0a404602941ae2054fefb2d59a680a6f53012ffb6ef7a3a0dabc0d"
  },
  "kernelspec": {
   "display_name": "Python 3.10.4 ('CDS')",
   "language": "python",
   "name": "python3"
  },
  "language_info": {
   "codemirror_mode": {
    "name": "ipython",
    "version": 3
   },
   "file_extension": ".py",
   "mimetype": "text/x-python",
   "name": "python",
   "nbconvert_exporter": "python",
   "pygments_lexer": "ipython3",
   "version": "3.10.4"
  },
  "widgets": {
   "application/vnd.jupyter.widget-state+json": {
    "state": {},
    "version_major": 2,
    "version_minor": 0
   }
  }
 },
 "nbformat": 4,
 "nbformat_minor": 5
}
